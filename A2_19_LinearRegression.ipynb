{
  "nbformat": 4,
  "nbformat_minor": 0,
  "metadata": {
    "colab": {
      "provenance": []
    },
    "kernelspec": {
      "name": "python3",
      "display_name": "Python 3"
    },
    "language_info": {
      "name": "python"
    }
  },
  "cells": [
    {
      "cell_type": "markdown",
      "source": [
        "NAME - SIDDHI KOTHEKAR\n",
        "\n",
        "ROLL NO.-19\n",
        "\n",
        "BATCH - A2"
      ],
      "metadata": {
        "id": "31UJ-atJ13qO"
      }
    },
    {
      "cell_type": "code",
      "source": [
        "import pandas as pd\n"
      ],
      "metadata": {
        "id": "ReAy6fQYkGvv"
      },
      "execution_count": null,
      "outputs": []
    },
    {
      "cell_type": "code",
      "execution_count": null,
      "metadata": {
        "id": "r7QpH7HokCGa"
      },
      "outputs": [],
      "source": [
        "import numpy as np"
      ]
    },
    {
      "cell_type": "code",
      "source": [
        "import numpy as np\n",
        "\n",
        "x = [5.0, 5.1, 5.2, 5.3, 5.4, 5.5, 5.6, 5.7, 5.8]\n",
        "y = [53, 55, 59, 61, 65, 68, 70, 74, 76]\n",
        "\n",
        "mean_x = np.mean(x)\n",
        "mean_y = np.mean(y)\n",
        "\n",
        "w1 = 0\n",
        "w2 = 0\n",
        "n = len(x)\n",
        "\n",
        "for i in range(n):\n",
        "    w1 += (x[i] - mean_x) * (y[i] - mean_y)\n",
        "    w2 += (x[i] - mean_x)**2\n",
        "\n",
        "w1 = w1 / w2\n",
        "w0 = mean_y - (w1 * mean_x)\n",
        "\n",
        "def linear_regression(x):\n",
        "    return w0 + w1 * x\n",
        "\n",
        "y_pred = [linear_regression(xi) for xi in x]\n",
        "\n",
        "print(\"Mean value of x:\", mean_x)\n",
        "print(\"Mean value of y:\", mean_y)\n",
        "print(\"Value of w1:\", w1)\n",
        "print(\"w0 = mean_y - (w1 * mean_x) =\", w0)\n",
        "print(\"y = w0 + w1 * x =\", y_pred)"
      ],
      "metadata": {
        "colab": {
          "base_uri": "https://localhost:8080/"
        },
        "id": "F156sW4ms_6m",
        "outputId": "376b1115-f942-486f-f461-36e056dfcf87"
      },
      "execution_count": null,
      "outputs": [
        {
          "output_type": "stream",
          "name": "stdout",
          "text": [
            "Mean value of x: 5.4\n",
            "Mean value of y: 64.55555555555556\n",
            "Value of w1: 29.666666666666668\n",
            "w0 = mean_y - (w1 * mean_x) = -95.64444444444446\n",
            "y = w0 + w1 * x = [52.68888888888888, 55.65555555555552, 58.62222222222222, 61.58888888888889, 64.55555555555556, 67.52222222222223, 70.48888888888887, 73.45555555555556, 76.4222222222222]\n"
          ]
        }
      ]
    },
    {
      "cell_type": "code",
      "source": [
        "mae=0\n",
        "for i in range(n):\n",
        "  mae += abs(y[i]-y_pred[i])\n",
        "mae = mae/n\n",
        "print(\"Mean absolute error = \",mae)"
      ],
      "metadata": {
        "colab": {
          "base_uri": "https://localhost:8080/"
        },
        "id": "pqqG9IymuM42",
        "outputId": "ca5a944e-ee24-4cae-906c-5e357f51e6db"
      },
      "execution_count": null,
      "outputs": [
        {
          "output_type": "stream",
          "name": "stdout",
          "text": [
            "Mean absolute error =  0.4790123456790035\n"
          ]
        }
      ]
    },
    {
      "cell_type": "code",
      "source": [
        "mse=0\n",
        "for i in range(n):\n",
        "  mse += abs(y[i]-y_pred[i])**2\n",
        "mse = mse/n\n",
        "print(\"Mean squared error = \",mse)"
      ],
      "metadata": {
        "colab": {
          "base_uri": "https://localhost:8080/"
        },
        "id": "9m-yNTFh1ce2",
        "outputId": "57bae44b-4836-4c17-e8a4-b6e6996db7a3"
      },
      "execution_count": null,
      "outputs": [
        {
          "output_type": "stream",
          "name": "stdout",
          "text": [
            "Mean squared error =  0.2395061728394963\n"
          ]
        }
      ]
    },
    {
      "cell_type": "code",
      "source": [
        "import matplotlib.pyplot as plt"
      ],
      "metadata": {
        "id": "vQTetEUsu1km"
      },
      "execution_count": null,
      "outputs": []
    },
    {
      "cell_type": "code",
      "source": [
        "plt.plot(x,y)\n",
        "plt.plot(x,y_pred,color=\"red\")\n",
        "plt.show()"
      ],
      "metadata": {
        "colab": {
          "base_uri": "https://localhost:8080/",
          "height": 430
        },
        "id": "fPfRyoaWvM3l",
        "outputId": "c3de8247-9396-4cbb-ae14-5e9dc499415e"
      },
      "execution_count": null,
      "outputs": [
        {
          "output_type": "display_data",
          "data": {
            "text/plain": [
              "<Figure size 640x480 with 1 Axes>"
            ],
            "image/png": "[encoded data removed]"
          },
          "metadata": {}
        }
      ]
    },
    {
      "cell_type": "code",
      "source": [],
      "metadata": {
        "id": "pin7ZctBvZv9"
      },
      "execution_count": null,
      "outputs": []
    },
    {
      "cell_type": "code",
      "source": [],
      "metadata": {
        "id": "ZioyeSOsxUBt"
      },
      "execution_count": null,
      "outputs": []
    },
    {
      "cell_type": "code",
      "source": [],
      "metadata": {
        "id": "caDndD9Axwzu"
      },
      "execution_count": null,
      "outputs": []
    },
    {
      "cell_type": "code",
      "source": [],
      "metadata": {
        "id": "UZ8I3yrPxzhF"
      },
      "execution_count": null,
      "outputs": []
    }
  ]
}