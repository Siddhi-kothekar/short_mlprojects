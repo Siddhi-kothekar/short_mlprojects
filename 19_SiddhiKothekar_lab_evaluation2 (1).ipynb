{
  "nbformat": 4,
  "nbformat_minor": 0,
  "metadata": {
    "colab": {
      "provenance": []
    },
    "kernelspec": {
      "name": "python3",
      "display_name": "Python 3"
    },
    "language_info": {
      "name": "python"
    }
  },
  "cells": [
    {
      "cell_type": "code",
      "execution_count": null,
      "metadata": {
        "id": "wzLHsFJs_Lip"
      },
      "outputs": [],
      "source": [
        "data ={\n",
        "    \"ex1\" : [\"heavy\",\"small\",\"hard\",\"oak\"],\n",
        "    \"ex2\" : [\"heavy\",\"large\",\"hard\",\"oak\"],\n",
        "    \"ex3\" : [\"light\",\"large\",\"soft\",\"oak\"],\n",
        "    \"ex4\" : [\"light\",\"large\",\"hard\",\"pine\"],\n",
        "    \"ex5\" : [\"heavy\",\"small\",\"soft\",\"pine\"],\n",
        "    \"ex6\" : [\"heavy\",\"large\",\"soft\",\"pine\"]\n",
        "}"
      ]
    },
    {
      "cell_type": "code",
      "source": [
        "print(data)"
      ],
      "metadata": {
        "colab": {
          "base_uri": "https://localhost:8080/"
        },
        "id": "cBIDf8m4CILa",
        "outputId": "ad61f643-a83c-432f-ff0e-03b799a44f13"
      },
      "execution_count": null,
      "outputs": [
        {
          "output_type": "stream",
          "name": "stdout",
          "text": [
            "{'ex1': ['heavy', 'small', 'hard', 'oak'], 'ex2': ['heavy', 'large', 'hard', 'oak'], 'ex3': ['light', 'large', 'soft', 'oak'], 'ex4': ['light', 'large', 'hard', 'pine'], 'ex5': ['heavy', 'small', 'soft', 'pine'], 'ex6': ['heavy', 'large', 'soft', 'pine']}\n"
          ]
        }
      ]
    },
    {
      "cell_type": "code",
      "source": [
        "test = [\"light\",\"small\",\"hard\"]"
      ],
      "metadata": {
        "id": "-V2F8yKhCqW0"
      },
      "execution_count": null,
      "outputs": []
    },
    {
      "cell_type": "code",
      "source": [
        "labels =[]\n",
        "features = []\n",
        "\n",
        "for i in data.values():\n",
        "  features.append(i[:-1])\n",
        "  labels.append(i[-1])\n",
        "print(features)\n",
        "print(labels)"
      ],
      "metadata": {
        "colab": {
          "base_uri": "https://localhost:8080/"
        },
        "id": "Hl5AzVNuEy7t",
        "outputId": "79ee3c36-aa94-48e5-8627-3d9e9bfafc71"
      },
      "execution_count": null,
      "outputs": [
        {
          "output_type": "stream",
          "name": "stdout",
          "text": [
            "[['heavy', 'small', 'hard'], ['heavy', 'large', 'hard'], ['light', 'large', 'soft'], ['light', 'large', 'hard'], ['heavy', 'small', 'soft'], ['heavy', 'large', 'soft']]\n",
            "['oak', 'oak', 'oak', 'pine', 'pine', 'pine']\n"
          ]
        }
      ]
    },
    {
      "cell_type": "code",
      "source": [
        "classes = list(set(labels))"
      ],
      "metadata": {
        "id": "0KftO5-eFbk9"
      },
      "execution_count": null,
      "outputs": []
    },
    {
      "cell_type": "code",
      "source": [
        "print(classes)"
      ],
      "metadata": {
        "colab": {
          "base_uri": "https://localhost:8080/"
        },
        "id": "EeBXT2mVFmst",
        "outputId": "454fa081-12ce-4abe-d6f2-3fe56244fdfa"
      },
      "execution_count": null,
      "outputs": [
        {
          "output_type": "stream",
          "name": "stdout",
          "text": [
            "['oak', 'pine']\n"
          ]
        }
      ]
    },
    {
      "cell_type": "code",
      "source": [
        "prior={}\n",
        "for c in classes:\n",
        "  prior[c] = labels.count(c)/len(labels)\n",
        "print(prior)\n"
      ],
      "metadata": {
        "colab": {
          "base_uri": "https://localhost:8080/"
        },
        "id": "he7y_sLGFo6c",
        "outputId": "ce55106c-2fb9-403c-c5e1-a06a3f967cc0"
      },
      "execution_count": null,
      "outputs": [
        {
          "output_type": "stream",
          "name": "stdout",
          "text": [
            "{'oak': 0.5, 'pine': 0.5}\n"
          ]
        }
      ]
    },
    {
      "cell_type": "code",
      "source": [
        "def likelihood(feature_index, value, c):\n",
        "    count = 0\n",
        "    total = 0\n",
        "    for i in range(len(features)):\n",
        "        if labels[i] == c:\n",
        "            total += 1\n",
        "            if features[i][feature_index] == value:\n",
        "                count += 1\n",
        "    return count / total if total != 0 else 0\n"
      ],
      "metadata": {
        "id": "7gLcdpTyGLmE"
      },
      "execution_count": null,
      "outputs": []
    },
    {
      "cell_type": "code",
      "source": [
        "probabilities = {}\n",
        "for c in classes:\n",
        "    prob = prior[c]\n",
        "    for i in range(len(test)):\n",
        "        prob *= likelihood(i, test[i], c)\n",
        "    probabilities[c] = prob"
      ],
      "metadata": {
        "id": "LPINSPqSGf67"
      },
      "execution_count": null,
      "outputs": []
    },
    {
      "cell_type": "code",
      "source": [
        "predicted_class = max(probabilities, key=probabilities.get)\n",
        "\n",
        "print(\"Predicted class:\", predicted_class)\n"
      ],
      "metadata": {
        "colab": {
          "base_uri": "https://localhost:8080/"
        },
        "id": "_xoqIttZGo9P",
        "outputId": "ae765ef7-d1c1-46b8-cc67-d8bd77cf7fb0"
      },
      "execution_count": null,
      "outputs": [
        {
          "output_type": "stream",
          "name": "stdout",
          "text": [
            "Predicted class: oak\n"
          ]
        }
      ]
    },
    {
      "cell_type": "code",
      "source": [],
      "metadata": {
        "id": "T5M_QItCGt7U"
      },
      "execution_count": null,
      "outputs": []
    }
  ]
}